{
 "cells": [
  {
   "cell_type": "code",
   "execution_count": 42,
   "metadata": {},
   "outputs": [],
   "source": [
    "import pandas as pd\n",
    "from google_play_scraper import reviews, Sort, reviews_all\n",
    "from time import sleep"
   ]
  },
  {
   "cell_type": "code",
   "execution_count": 29,
   "metadata": {},
   "outputs": [],
   "source": [
    "apps = [\n",
    "    \"de.j4velin.wifiAutoOff\",\n",
    "    \"org.pocketworkstation.pckeyboard\",\n",
    "    \"me.ccrama.redditslide\",\n",
    "    \"org.nutritionfacts.dailydozen\",\n",
    "    \"com.dimowner.audiorecorder\",\n",
    "    \"jwtc.android.chess\",\n",
    "    \"nitezh.ministock\",\n",
    "    \"com.physphil.android.unitconverterultimate\",\n",
    "    \"com.darshancomputing.BatteryIndicator\"\n",
    "]\n",
    "\n",
    "result_ids = set()"
   ]
  },
  {
   "cell_type": "code",
   "execution_count": 30,
   "metadata": {},
   "outputs": [
    {
     "name": "stdout",
     "output_type": "stream",
     "text": [
      "Working on de.j4velin.wifiAutoOff\n",
      "Iter: 2, Total Reviews: 400\n",
      "Iter: 3, Total Reviews: 600\n",
      "Iter: 4, Total Reviews: 800\n",
      "Iter: 5, Total Reviews: 1000\n",
      "Iter: 6, Total Reviews: 1200\n",
      "Iter: 7, Total Reviews: 1400\n",
      "Iter: 8, Total Reviews: 1484\n",
      "Working on org.pocketworkstation.pckeyboard\n",
      "Iter: 2, Total Reviews: 400\n",
      "Iter: 3, Total Reviews: 600\n",
      "Iter: 4, Total Reviews: 800\n",
      "Iter: 5, Total Reviews: 1000\n",
      "Iter: 6, Total Reviews: 1200\n",
      "Iter: 7, Total Reviews: 1400\n",
      "Iter: 8, Total Reviews: 1600\n",
      "Iter: 9, Total Reviews: 1800\n",
      "Iter: 10, Total Reviews: 2000\n",
      "Iter: 11, Total Reviews: 2200\n",
      "Iter: 12, Total Reviews: 2400\n",
      "Iter: 13, Total Reviews: 2600\n",
      "Iter: 14, Total Reviews: 2800\n",
      "Iter: 15, Total Reviews: 3000\n",
      "Iter: 16, Total Reviews: 3200\n",
      "Iter: 17, Total Reviews: 3400\n",
      "Iter: 18, Total Reviews: 3600\n",
      "Iter: 19, Total Reviews: 3800\n",
      "Iter: 20, Total Reviews: 4000\n",
      "Iter: 21, Total Reviews: 4200\n",
      "Iter: 22, Total Reviews: 4400\n",
      "Iter: 23, Total Reviews: 4600\n",
      "Iter: 24, Total Reviews: 4800\n",
      "Iter: 25, Total Reviews: 5000\n",
      "Iter: 26, Total Reviews: 5200\n",
      "Iter: 27, Total Reviews: 5400\n",
      "Iter: 28, Total Reviews: 5600\n",
      "Iter: 29, Total Reviews: 5800\n",
      "Iter: 30, Total Reviews: 6000\n",
      "Iter: 31, Total Reviews: 6200\n",
      "Iter: 32, Total Reviews: 6400\n",
      "Iter: 33, Total Reviews: 6600\n",
      "Iter: 34, Total Reviews: 6800\n",
      "Iter: 35, Total Reviews: 7000\n",
      "Iter: 36, Total Reviews: 7200\n",
      "Iter: 37, Total Reviews: 7400\n",
      "Iter: 38, Total Reviews: 7600\n",
      "Iter: 39, Total Reviews: 7800\n",
      "Iter: 40, Total Reviews: 8000\n",
      "Iter: 41, Total Reviews: 8200\n",
      "Iter: 42, Total Reviews: 8400\n",
      "Iter: 43, Total Reviews: 8600\n",
      "Iter: 44, Total Reviews: 8800\n",
      "Iter: 45, Total Reviews: 9000\n",
      "Iter: 46, Total Reviews: 9200\n",
      "Iter: 47, Total Reviews: 9400\n",
      "Iter: 48, Total Reviews: 9600\n",
      "Iter: 49, Total Reviews: 9800\n",
      "Iter: 50, Total Reviews: 9965\n",
      "Working on me.ccrama.redditslide\n",
      "Iter: 2, Total Reviews: 400\n",
      "Iter: 3, Total Reviews: 600\n",
      "Iter: 4, Total Reviews: 800\n",
      "Iter: 5, Total Reviews: 1000\n",
      "Iter: 6, Total Reviews: 1200\n",
      "Iter: 7, Total Reviews: 1400\n",
      "Iter: 8, Total Reviews: 1600\n",
      "Iter: 9, Total Reviews: 1800\n",
      "Iter: 10, Total Reviews: 1973\n",
      "Working on org.nutritionfacts.dailydozen\n",
      "Iter: 2, Total Reviews: 400\n",
      "Iter: 3, Total Reviews: 600\n",
      "Iter: 4, Total Reviews: 800\n",
      "Iter: 5, Total Reviews: 1000\n",
      "Iter: 6, Total Reviews: 1200\n",
      "Iter: 7, Total Reviews: 1400\n",
      "Iter: 8, Total Reviews: 1600\n",
      "Iter: 9, Total Reviews: 1800\n",
      "Iter: 10, Total Reviews: 2000\n",
      "Iter: 11, Total Reviews: 2200\n",
      "Iter: 12, Total Reviews: 2400\n",
      "Iter: 13, Total Reviews: 2600\n",
      "Iter: 14, Total Reviews: 2800\n",
      "Iter: 15, Total Reviews: 3000\n",
      "Iter: 16, Total Reviews: 3040\n",
      "Working on com.dimowner.audiorecorder\n",
      "Iter: 2, Total Reviews: 400\n",
      "Iter: 3, Total Reviews: 600\n",
      "Iter: 4, Total Reviews: 800\n",
      "Iter: 5, Total Reviews: 1000\n",
      "Iter: 6, Total Reviews: 1129\n",
      "Working on jwtc.android.chess\n",
      "Iter: 2, Total Reviews: 400\n",
      "Iter: 3, Total Reviews: 598\n",
      "Working on nitezh.ministock\n",
      "Iter: 2, Total Reviews: 400\n",
      "Iter: 3, Total Reviews: 600\n",
      "Iter: 4, Total Reviews: 800\n",
      "Iter: 5, Total Reviews: 1000\n",
      "Iter: 6, Total Reviews: 1200\n",
      "Iter: 7, Total Reviews: 1213\n",
      "Working on com.physphil.android.unitconverterultimate\n",
      "Iter: 2, Total Reviews: 400\n",
      "Iter: 3, Total Reviews: 600\n",
      "Iter: 4, Total Reviews: 800\n",
      "Iter: 5, Total Reviews: 1000\n",
      "Iter: 6, Total Reviews: 1200\n",
      "Iter: 7, Total Reviews: 1400\n",
      "Iter: 8, Total Reviews: 1600\n",
      "Iter: 9, Total Reviews: 1800\n",
      "Iter: 10, Total Reviews: 2000\n",
      "Iter: 11, Total Reviews: 2200\n",
      "Iter: 12, Total Reviews: 2400\n",
      "Iter: 13, Total Reviews: 2600\n",
      "Iter: 14, Total Reviews: 2800\n",
      "Iter: 15, Total Reviews: 3000\n",
      "Iter: 16, Total Reviews: 3200\n",
      "Iter: 17, Total Reviews: 3400\n",
      "Iter: 18, Total Reviews: 3582\n",
      "Working on com.darshancomputing.BatteryIndicator\n",
      "Iter: 2, Total Reviews: 400\n",
      "Iter: 3, Total Reviews: 600\n",
      "Iter: 4, Total Reviews: 800\n",
      "Iter: 5, Total Reviews: 1000\n",
      "Iter: 6, Total Reviews: 1200\n",
      "Iter: 7, Total Reviews: 1400\n",
      "Iter: 8, Total Reviews: 1600\n",
      "Iter: 9, Total Reviews: 1800\n",
      "Iter: 10, Total Reviews: 2000\n",
      "Iter: 11, Total Reviews: 2200\n",
      "Iter: 12, Total Reviews: 2400\n",
      "Iter: 13, Total Reviews: 2600\n",
      "Iter: 14, Total Reviews: 2800\n",
      "Iter: 15, Total Reviews: 3000\n",
      "Iter: 16, Total Reviews: 3200\n",
      "Iter: 17, Total Reviews: 3400\n",
      "Iter: 18, Total Reviews: 3600\n",
      "Iter: 19, Total Reviews: 3800\n",
      "Iter: 20, Total Reviews: 4000\n",
      "Iter: 21, Total Reviews: 4200\n",
      "Iter: 22, Total Reviews: 4400\n",
      "Iter: 23, Total Reviews: 4600\n",
      "Iter: 24, Total Reviews: 4800\n",
      "Iter: 25, Total Reviews: 5000\n",
      "Iter: 26, Total Reviews: 5200\n",
      "Iter: 27, Total Reviews: 5400\n",
      "Iter: 28, Total Reviews: 5600\n",
      "Iter: 29, Total Reviews: 5800\n",
      "Iter: 30, Total Reviews: 6000\n",
      "Iter: 31, Total Reviews: 6200\n",
      "Iter: 32, Total Reviews: 6400\n",
      "Iter: 33, Total Reviews: 6539\n"
     ]
    }
   ],
   "source": [
    "all_reviews = {}\n",
    "for app in apps:\n",
    "    print(f'Working on {app}')\n",
    "    # Get reviews\n",
    "    result, continuation = reviews(\n",
    "        app,\n",
    "        lang='en', # defaults to 'en'\n",
    "        country='us', # defaults to 'us'\n",
    "        sort=Sort.NEWEST, # defaults to Sort.MOST_RELEVANT\n",
    "        count = 200\n",
    "    )\n",
    "    iteration = 1\n",
    "    while continuation.token is not None:\n",
    "        more_result, continuation = reviews(\n",
    "            app,\n",
    "            continuation_token=continuation,\n",
    "            lang='en', # defaults to 'en'\n",
    "            country='us', # defaults to 'us'\n",
    "            sort=Sort.NEWEST # defaults to Sort.MOST_RELEVANT\n",
    "        )\n",
    "        result.extend(more_result)\n",
    "        iteration += 1\n",
    "        print(f'Iter: {iteration}, Total Reviews: {len(result)}')\n",
    "        sleep(0.6)\n",
    "    \n",
    "    all_reviews[app] = result"
   ]
  },
  {
   "cell_type": "code",
   "execution_count": 31,
   "metadata": {},
   "outputs": [
    {
     "data": {
      "text/plain": [
       "dict_keys(['de.j4velin.wifiAutoOff', 'org.pocketworkstation.pckeyboard', 'me.ccrama.redditslide', 'org.nutritionfacts.dailydozen', 'com.dimowner.audiorecorder', 'jwtc.android.chess', 'nitezh.ministock', 'com.physphil.android.unitconverterultimate', 'com.darshancomputing.BatteryIndicator'])"
      ]
     },
     "execution_count": 31,
     "metadata": {},
     "output_type": "execute_result"
    }
   ],
   "source": [
    "all_reviews.keys()"
   ]
  },
  {
   "cell_type": "code",
   "execution_count": 33,
   "metadata": {},
   "outputs": [],
   "source": [
    "for key in all_reviews.keys():\n",
    "    for review in all_reviews[key]:\n",
    "        review['appId'] = key"
   ]
  },
  {
   "cell_type": "code",
   "execution_count": 34,
   "metadata": {},
   "outputs": [],
   "source": [
    "final_reviews = []\n",
    "for key in all_reviews.keys():\n",
    "    final_reviews.extend(all_reviews[key])"
   ]
  },
  {
   "cell_type": "code",
   "execution_count": 48,
   "metadata": {},
   "outputs": [
    {
     "name": "stdout",
     "output_type": "stream",
     "text": [
      "Empty replies: 95\n"
     ]
    }
   ],
   "source": [
    "empty_replies = 0\n",
    "for review in final_reviews:\n",
    "    if review['content'] is None:\n",
    "        empty_replies += 1\n",
    "print(f'Empty replies: {empty_replies}')"
   ]
  },
  {
   "cell_type": "code",
   "execution_count": 49,
   "metadata": {},
   "outputs": [
    {
     "data": {
      "text/plain": [
       "29523"
      ]
     },
     "execution_count": 49,
     "metadata": {},
     "output_type": "execute_result"
    }
   ],
   "source": [
    "len(final_reviews)"
   ]
  },
  {
   "cell_type": "code",
   "execution_count": 50,
   "metadata": {},
   "outputs": [],
   "source": [
    "df = pd.DataFrame(final_reviews)"
   ]
  },
  {
   "cell_type": "code",
   "execution_count": 52,
   "metadata": {},
   "outputs": [],
   "source": [
    "df.to_json('reviews.json', orient='records')"
   ]
  },
  {
   "cell_type": "code",
   "execution_count": null,
   "metadata": {},
   "outputs": [],
   "source": []
  }
 ],
 "metadata": {
  "kernelspec": {
   "display_name": "Python 3",
   "language": "python",
   "name": "python3"
  },
  "language_info": {
   "codemirror_mode": {
    "name": "ipython",
    "version": 3
   },
   "file_extension": ".py",
   "mimetype": "text/x-python",
   "name": "python",
   "nbconvert_exporter": "python",
   "pygments_lexer": "ipython3",
   "version": "3.10.10"
  },
  "orig_nbformat": 4,
  "vscode": {
   "interpreter": {
    "hash": "8d3b43e50a3583ee7152e0d74c783830926cb19e8f86c616e032b9504f616def"
   }
  }
 },
 "nbformat": 4,
 "nbformat_minor": 2
}
