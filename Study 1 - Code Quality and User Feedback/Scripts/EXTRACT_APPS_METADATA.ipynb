{
 "cells": [
  {
   "cell_type": "code",
   "execution_count": 1,
   "metadata": {},
   "outputs": [],
   "source": [
    "from bs4 import BeautifulSoup as soup\n",
    "import pandas as pd"
   ]
  },
  {
   "cell_type": "code",
   "execution_count": 3,
   "metadata": {},
   "outputs": [],
   "source": [
    "content = []\n",
    "with open(\"../data/all applications.xml\", 'r', encoding=\"iso-8859-1\") as f:\n",
    "    content = f.readlines()\n",
    "content = \"\".join(content)\n"
   ]
  },
  {
   "cell_type": "code",
   "execution_count": 25,
   "metadata": {},
   "outputs": [],
   "source": [
    "s = soup(content, \"xml\")"
   ]
  },
  {
   "cell_type": "code",
   "execution_count": 26,
   "metadata": {},
   "outputs": [
    {
     "data": {
      "text/plain": [
       "4020"
      ]
     },
     "execution_count": 26,
     "metadata": {},
     "output_type": "execute_result"
    }
   ],
   "source": [
    "apps = s.find_all(\"application\")\n",
    "len(apps)"
   ]
  },
  {
   "cell_type": "code",
   "execution_count": 37,
   "metadata": {},
   "outputs": [],
   "source": [
    "versions = []\n",
    "for app in apps:\n",
    "    category = app.find(\"category\").text\n",
    "    packages = app.find_all(\"package\")\n",
    "    for package in packages:\n",
    "        id = package.find(\"versioncode\").text\n",
    "        version = package.find(\"version\").text\n",
    "        date = package.find(\"added\").text\n",
    "        size = round(int(package.find(\"size\").text) / (1024*1024), 2)\n",
    "        if package.find(\"sdkver\"):\n",
    "            min_sdk = package.find(\"sdkver\").text\n",
    "        if package.find(\"targetSdkVersion\"):\n",
    "            target_sdk = package.find(\"targetSdkVersion\").text\n",
    "        row = [id, app['id'], version, date, category, size, min_sdk, target_sdk]\n",
    "        versions.append(row)\n",
    "\n",
    "\n",
    "    "
   ]
  },
  {
   "cell_type": "code",
   "execution_count": 38,
   "metadata": {},
   "outputs": [],
   "source": [
    "Versions_DF = pd.DataFrame(versions, columns=[\"ID\",\"Package_name\", \"Version\", \"Date\", \"Category\", \"Size (MB)\", \"min SDK\", \"target SDK\"])"
   ]
  },
  {
   "cell_type": "code",
   "execution_count": 39,
   "metadata": {},
   "outputs": [
    {
     "data": {
      "text/html": [
       "<div>\n",
       "<style scoped>\n",
       "    .dataframe tbody tr th:only-of-type {\n",
       "        vertical-align: middle;\n",
       "    }\n",
       "\n",
       "    .dataframe tbody tr th {\n",
       "        vertical-align: top;\n",
       "    }\n",
       "\n",
       "    .dataframe thead th {\n",
       "        text-align: right;\n",
       "    }\n",
       "</style>\n",
       "<table border=\"1\" class=\"dataframe\">\n",
       "  <thead>\n",
       "    <tr style=\"text-align: right;\">\n",
       "      <th></th>\n",
       "      <th>ID</th>\n",
       "      <th>Package_name</th>\n",
       "      <th>Version</th>\n",
       "      <th>Date</th>\n",
       "      <th>Category</th>\n",
       "      <th>Size (MB)</th>\n",
       "      <th>min SDK</th>\n",
       "      <th>target SDK</th>\n",
       "    </tr>\n",
       "  </thead>\n",
       "  <tbody>\n",
       "    <tr>\n",
       "      <th>0</th>\n",
       "      <td>860</td>\n",
       "      <td>dev.lonami.klooni</td>\n",
       "      <td>0.8.6</td>\n",
       "      <td>2020-09-01</td>\n",
       "      <td>Games</td>\n",
       "      <td>2.61</td>\n",
       "      <td>8</td>\n",
       "      <td>29</td>\n",
       "    </tr>\n",
       "    <tr>\n",
       "      <th>1</th>\n",
       "      <td>850</td>\n",
       "      <td>dev.lonami.klooni</td>\n",
       "      <td>0.8.5</td>\n",
       "      <td>2020-07-06</td>\n",
       "      <td>Games</td>\n",
       "      <td>2.61</td>\n",
       "      <td>8</td>\n",
       "      <td>29</td>\n",
       "    </tr>\n",
       "    <tr>\n",
       "      <th>2</th>\n",
       "      <td>840</td>\n",
       "      <td>dev.lonami.klooni</td>\n",
       "      <td>0.8.4</td>\n",
       "      <td>2020-05-09</td>\n",
       "      <td>Games</td>\n",
       "      <td>2.61</td>\n",
       "      <td>8</td>\n",
       "      <td>29</td>\n",
       "    </tr>\n",
       "    <tr>\n",
       "      <th>3</th>\n",
       "      <td>10401</td>\n",
       "      <td>com.chancehorizon.just24hoursplus</td>\n",
       "      <td>1.4.1</td>\n",
       "      <td>2022-01-02</td>\n",
       "      <td>Time</td>\n",
       "      <td>2.92</td>\n",
       "      <td>19</td>\n",
       "      <td>31</td>\n",
       "    </tr>\n",
       "    <tr>\n",
       "      <th>4</th>\n",
       "      <td>10400</td>\n",
       "      <td>com.chancehorizon.just24hoursplus</td>\n",
       "      <td>1.4.0</td>\n",
       "      <td>2021-12-28</td>\n",
       "      <td>Time</td>\n",
       "      <td>2.92</td>\n",
       "      <td>19</td>\n",
       "      <td>31</td>\n",
       "    </tr>\n",
       "    <tr>\n",
       "      <th>...</th>\n",
       "      <td>...</td>\n",
       "      <td>...</td>\n",
       "      <td>...</td>\n",
       "      <td>...</td>\n",
       "      <td>...</td>\n",
       "      <td>...</td>\n",
       "      <td>...</td>\n",
       "      <td>...</td>\n",
       "    </tr>\n",
       "    <tr>\n",
       "      <th>9610</th>\n",
       "      <td>2</td>\n",
       "      <td>im.r_c.android.clearweather</td>\n",
       "      <td>1.0.0</td>\n",
       "      <td>2016-06-24</td>\n",
       "      <td>Internet</td>\n",
       "      <td>1.54</td>\n",
       "      <td>15</td>\n",
       "      <td>23</td>\n",
       "    </tr>\n",
       "    <tr>\n",
       "      <th>9611</th>\n",
       "      <td>314</td>\n",
       "      <td>com.chao.app</td>\n",
       "      <td>2.56.6</td>\n",
       "      <td>2022-08-26</td>\n",
       "      <td>Internet</td>\n",
       "      <td>33.00</td>\n",
       "      <td>21</td>\n",
       "      <td>31</td>\n",
       "    </tr>\n",
       "    <tr>\n",
       "      <th>9612</th>\n",
       "      <td>313</td>\n",
       "      <td>com.chao.app</td>\n",
       "      <td>2.56.3</td>\n",
       "      <td>2022-07-12</td>\n",
       "      <td>Internet</td>\n",
       "      <td>33.00</td>\n",
       "      <td>21</td>\n",
       "      <td>31</td>\n",
       "    </tr>\n",
       "    <tr>\n",
       "      <th>9613</th>\n",
       "      <td>22</td>\n",
       "      <td>com.gonnaggstudio.oh_tai_gi</td>\n",
       "      <td>1.0.21</td>\n",
       "      <td>2022-07-18</td>\n",
       "      <td>Science &amp; Education</td>\n",
       "      <td>25.63</td>\n",
       "      <td>16</td>\n",
       "      <td>28</td>\n",
       "    </tr>\n",
       "    <tr>\n",
       "      <th>9614</th>\n",
       "      <td>179</td>\n",
       "      <td>org.mazhuang.guanggoo</td>\n",
       "      <td>2.3.179</td>\n",
       "      <td>2022-02-09</td>\n",
       "      <td>Internet</td>\n",
       "      <td>3.45</td>\n",
       "      <td>16</td>\n",
       "      <td>28</td>\n",
       "    </tr>\n",
       "  </tbody>\n",
       "</table>\n",
       "<p>9615 rows × 8 columns</p>\n",
       "</div>"
      ],
      "text/plain": [
       "         ID                       Package_name  Version        Date  \\\n",
       "0       860                  dev.lonami.klooni    0.8.6  2020-09-01   \n",
       "1       850                  dev.lonami.klooni    0.8.5  2020-07-06   \n",
       "2       840                  dev.lonami.klooni    0.8.4  2020-05-09   \n",
       "3     10401  com.chancehorizon.just24hoursplus    1.4.1  2022-01-02   \n",
       "4     10400  com.chancehorizon.just24hoursplus    1.4.0  2021-12-28   \n",
       "...     ...                                ...      ...         ...   \n",
       "9610      2        im.r_c.android.clearweather    1.0.0  2016-06-24   \n",
       "9611    314                       com.chao.app   2.56.6  2022-08-26   \n",
       "9612    313                       com.chao.app   2.56.3  2022-07-12   \n",
       "9613     22        com.gonnaggstudio.oh_tai_gi   1.0.21  2022-07-18   \n",
       "9614    179              org.mazhuang.guanggoo  2.3.179  2022-02-09   \n",
       "\n",
       "                 Category  Size (MB) min SDK target SDK  \n",
       "0                   Games       2.61       8         29  \n",
       "1                   Games       2.61       8         29  \n",
       "2                   Games       2.61       8         29  \n",
       "3                    Time       2.92      19         31  \n",
       "4                    Time       2.92      19         31  \n",
       "...                   ...        ...     ...        ...  \n",
       "9610             Internet       1.54      15         23  \n",
       "9611             Internet      33.00      21         31  \n",
       "9612             Internet      33.00      21         31  \n",
       "9613  Science & Education      25.63      16         28  \n",
       "9614             Internet       3.45      16         28  \n",
       "\n",
       "[9615 rows x 8 columns]"
      ]
     },
     "execution_count": 39,
     "metadata": {},
     "output_type": "execute_result"
    }
   ],
   "source": [
    "Versions_DF"
   ]
  },
  {
   "cell_type": "code",
   "execution_count": 40,
   "metadata": {},
   "outputs": [],
   "source": [
    "Versions_DF.to_excel(\"Versions.xlsx\")"
   ]
  },
  {
   "cell_type": "code",
   "execution_count": null,
   "metadata": {},
   "outputs": [],
   "source": []
  }
 ],
 "metadata": {
  "kernelspec": {
   "display_name": "base",
   "language": "python",
   "name": "python3"
  },
  "language_info": {
   "codemirror_mode": {
    "name": "ipython",
    "version": 3
   },
   "file_extension": ".py",
   "mimetype": "text/x-python",
   "name": "python",
   "nbconvert_exporter": "python",
   "pygments_lexer": "ipython3",
   "version": "3.9.12"
  },
  "orig_nbformat": 4,
  "vscode": {
   "interpreter": {
    "hash": "f537f9c21165c7935e03bfae5be5274269b6258f52c06218383ed7c44dd706d9"
   }
  }
 },
 "nbformat": 4,
 "nbformat_minor": 2
}
