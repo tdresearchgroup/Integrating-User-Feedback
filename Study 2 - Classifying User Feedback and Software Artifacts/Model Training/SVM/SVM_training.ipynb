{
 "cells": [
  {
   "cell_type": "code",
   "execution_count": null,
   "metadata": {},
   "outputs": [],
   "source": [
    "from sklearn.feature_extraction.text import TfidfVectorizer\n",
    "from sklearn.model_selection import train_test_split\n",
    "from sklearn.multioutput import MultiOutputClassifier\n",
    "from sklearn.svm import SVC\n",
    "from sklearn.metrics import classification_report\n",
    "from sklearn.preprocessing import MultiLabelBinarizer\n",
    "import pandas as pd\n"
   ]
  },
  {
   "cell_type": "code",
   "execution_count": null,
   "metadata": {},
   "outputs": [],
   "source": [
    "data = pd.read_json('')\n",
    "\n",
    "# concat the text into string\n",
    "data['text'] = data['text'].apply(lambda x: ' '.join(x))\n",
    "data.head()"
   ]
  },
  {
   "cell_type": "code",
   "execution_count": null,
   "metadata": {},
   "outputs": [],
   "source": [
    "from sklearn.feature_extraction.text import CountVectorizer\n",
    "from sklearn.model_selection import train_test_split\n",
    "from sklearn.svm import SVC\n",
    "from sklearn.preprocessing import MultiLabelBinarizer\n",
    "from sklearn.metrics import classification_report\n",
    "\n",
    "# Sample data\n",
    "texts = [\"John works at Apple Inc. in California.\", \"Mary is a scientist at Google.\", \"Microsoft is located in Washington.\"]\n",
    "labels = [[\"B-PER\", \"O\", \"O\", \"O\", \"B-ORG\", \"I-ORG\", \"O\", \"B-LOC\"],\n",
    "          [\"B-PER\", \"O\", \"O\", \"O\", \"O\", \"B-ORG\", \"O\"],\n",
    "          [\"B-ORG\", \"O\", \"O\", \"B-LOC\"]]\n",
    "\n",
    "# Flatten the labels\n",
    "flat_labels = [label for sublist in labels for label in sublist]\n",
    "\n",
    "# Feature extraction using CountVectorizer\n",
    "vectorizer = CountVectorizer()\n",
    "X = vectorizer.fit_transform(texts)\n",
    "\n",
    "# Convert the list of labels to a binary matrix\n",
    "mlb = MultiLabelBinarizer()\n",
    "y_binary = mlb.fit_transform([flat_labels])\n",
    "\n",
    "# Split the dataset\n",
    "X_train, X_test, y_train, y_test = train_test_split(X, y_binary[0], test_size=0.2, random_state=42)\n",
    "\n",
    "# Create and train the SVM model\n",
    "svm_model = SVC(kernel='linear', C=1.0)\n",
    "svm_model.fit(X_train, y_train)\n",
    "\n",
    "# Make predictions on the test set\n",
    "y_pred = svm_model.predict(X_test)\n",
    "\n",
    "# Convert the predicted binary matrix back to labels\n",
    "y_pred_labels = mlb.inverse_transform(y_pred.reshape(1, -1))\n",
    "\n",
    "# Evaluate the model\n",
    "report = classification_report(y_test, y_pred)\n",
    "\n",
    "# Print the results\n",
    "print(\"Classification Report:\\n\", report)\n",
    "print(\"Predicted Labels:\\n\", y_pred_labels)\n"
   ]
  },
  {
   "cell_type": "code",
   "execution_count": null,
   "metadata": {},
   "outputs": [],
   "source": []
  }
 ],
 "metadata": {
  "kernelspec": {
   "display_name": "base",
   "language": "python",
   "name": "python3"
  },
  "language_info": {
   "codemirror_mode": {
    "name": "ipython",
    "version": 3
   },
   "file_extension": ".py",
   "mimetype": "text/x-python",
   "name": "python",
   "nbconvert_exporter": "python",
   "pygments_lexer": "ipython3",
   "version": "3.10.9"
  }
 },
 "nbformat": 4,
 "nbformat_minor": 2
}
